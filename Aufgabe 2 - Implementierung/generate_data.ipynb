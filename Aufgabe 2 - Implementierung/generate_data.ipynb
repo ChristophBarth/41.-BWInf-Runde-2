{
 "cells": [
  {
   "cell_type": "code",
   "execution_count": 1,
   "metadata": {
    "collapsed": true
   },
   "outputs": [],
   "source": [
    "from datetime import time, datetime\n",
    "\n",
    "from generate_data_mp_batching import batch_process\n",
    "from utils import advanced_sorting"
   ]
  },
  {
   "cell_type": "code",
   "execution_count": 2,
   "outputs": [],
   "source": [
    "params = {\n",
    "    'max_input_size': 100000,\n",
    "    'step': 1000,\n",
    "    'runs': 100,\n",
    "    'dim_vs_n_values': [.1,.5,1,2],\n",
    "    'algos': {\n",
    "        'random': None,\n",
    "        'first': lambda start_rects:sorted(start_rects, key=lambda x:x[0]),\n",
    "        'second': lambda start_rects:sorted(start_rects, key=lambda x:x[1]),\n",
    "        'area': lambda start_rects:sorted(start_rects, key=lambda x:x[0]*x[1]),\n",
    "        'height': lambda start_rects:sorted(start_rects, key=lambda x:x[1]-x[0]),\n",
    "        'kmeans*area': lambda start_rects:advanced_sorting(start_rects, sort_key=lambda x:x[0]*x[1]),\n",
    "        'kmeans*first': lambda start_rects:advanced_sorting(start_rects, sort_key=lambda x:x[0]),\n",
    "        'kmeans*second': lambda start_rects:advanced_sorting(start_rects, sort_key=lambda x:x[1])\n",
    "    },\n",
    "    'metrics': ['start_rect_position', 'runtime', 'start_rect_count', 'sorting_time']\n",
    "}\n",
    "\n",
    "params = {\n",
    "    'max_input_size': 1000,\n",
    "    'step': 100,\n",
    "    'runs': 100,\n",
    "    'dim_vs_n_values': [.1],\n",
    "    'algos': {\n",
    "        'random': None,\n",
    "        'first': lambda start_rects:sorted(start_rects, key=lambda x:x[0]),\n",
    "        'second': lambda start_rects:sorted(start_rects, key=lambda x:x[1]),\n",
    "        'kmeans*second': lambda start_rects:advanced_sorting(start_rects, sort_key=lambda x:x[1])\n",
    "    },\n",
    "    'metrics': ['start_rect_position', 'runtime', 'start_rect_count', 'sorting_time', 'start_rects']\n",
    "}"
   ],
   "metadata": {
    "collapsed": false
   }
  },
  {
   "cell_type": "code",
   "execution_count": 3,
   "outputs": [
    {
     "name": "stderr",
     "output_type": "stream",
     "text": [
      "100%|██████████| 900/900 [00:03<00:00, 286.78it/s]"
     ]
    },
    {
     "name": "stdout",
     "output_type": "stream",
     "text": [
      "Generated 3600 rows!\n",
      "CPU times: user 142 ms, sys: 79.4 ms, total: 221 ms\n",
      "Wall time: 3.28 s\n"
     ]
    },
    {
     "name": "stderr",
     "output_type": "stream",
     "text": [
      "\n"
     ]
    }
   ],
   "source": [
    "%%time\n",
    "data = batch_process(params, n_workers=8)"
   ],
   "metadata": {
    "collapsed": false
   }
  },
  {
   "cell_type": "code",
   "execution_count": 7,
   "outputs": [],
   "source": [
    "timestamp = datetime.now().strftime('%Y-%m-%d_%H-%M-%S')\n",
    "data.to_csv(f'./data/results_{timestamp}.csv', index=False)"
   ],
   "metadata": {
    "collapsed": false
   }
  },
  {
   "cell_type": "code",
   "execution_count": null,
   "outputs": [],
   "source": [],
   "metadata": {
    "collapsed": false
   }
  }
 ],
 "metadata": {
  "kernelspec": {
   "display_name": "Python 3",
   "language": "python",
   "name": "python3"
  },
  "language_info": {
   "codemirror_mode": {
    "name": "ipython",
    "version": 2
   },
   "file_extension": ".py",
   "mimetype": "text/x-python",
   "name": "python",
   "nbconvert_exporter": "python",
   "pygments_lexer": "ipython2",
   "version": "2.7.6"
  }
 },
 "nbformat": 4,
 "nbformat_minor": 0
}
